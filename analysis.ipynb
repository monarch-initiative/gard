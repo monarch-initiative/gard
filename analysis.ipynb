{
 "cells": [
  {
   "cell_type": "markdown",
   "metadata": {},
   "source": [
    "# Analysis for GARD ingest\n",
    "- [Spreadsheet](https://docs.google.com/spreadsheets/d/1w5Xnzr5uNFcPrQqCT8mGBFHnGhwXDfQVzHKofw6kB7c/edit#gid=1282628523)"
   ]
  },
  {
   "cell_type": "code",
   "execution_count": 8,
   "metadata": {},
   "outputs": [],
   "source": [
    "%reload_ext autoreload\n",
    "%autoreload 2\n",
    "from pathlib import Path\n",
    "import os\n",
    "import sys\n",
    "\n",
    "sys.path.insert(0, Path(os.getcwd()).parent)\n",
    "from gard_owl_ingest.mondo_mapping_status import gard_mondo_mapping_status\n",
    "\n",
    "proxy_df, sssom_curate_df = gard_mondo_mapping_status(return_type='analysis')\n",
    "proxy_df_exact, sssom_curate_df_exact = gard_mondo_mapping_status(\n",
    "    return_type='analysis', mondo_predicate_filter=['skos:exactMatch'], gard_predicate_filter=['skos:exactMatch'])"
   ]
  },
  {
   "cell_type": "markdown",
   "metadata": {},
   "source": [
    "## 2023-06-29"
   ]
  },
  {
   "cell_type": "markdown",
   "metadata": {},
   "source": [
    "Created set of output artefacts that have `-exact` in the filename, e.g. `gard-mondo-exact.sssom.tsv`. For these artefacts, we have filtered out everything but `skos:exactMatch` for both the Mondo::proxy and GARD::proxy mappings."
   ]
  },
  {
   "cell_type": "markdown",
   "metadata": {},
   "source": [
    "### 1. `gard-mondo-exact_curation.sssom.tsv`: no duplicates\n",
    "\n",
    "FYI: `sssom_curate_df` is `gard-mondo_curation.sssom.tsv`, which is just `gard-mondo.sssom.tsv` but with additional columns."
   ]
  },
  {
   "cell_type": "markdown",
   "metadata": {},
   "source": [
    "#### Duplicate edges"
   ]
  },
  {
   "cell_type": "code",
   "execution_count": 24,
   "metadata": {},
   "outputs": [
    {
     "data": {
      "text/plain": [
       "0"
      ]
     },
     "execution_count": 24,
     "metadata": {},
     "output_type": "execute_result"
    }
   ],
   "source": [
    "dups = sssom_curate_df_exact[sssom_curate_df_exact.duplicated(subset=['subject_id', 'object_id'])]\n",
    "len(dups)"
   ]
  },
  {
   "cell_type": "markdown",
   "metadata": {},
   "source": [
    "#### Duplicate Mondo IDs"
   ]
  },
  {
   "cell_type": "code",
   "execution_count": 40,
   "metadata": {},
   "outputs": [
    {
     "data": {
      "text/plain": [
       "0"
      ]
     },
     "execution_count": 40,
     "metadata": {},
     "output_type": "execute_result"
    }
   ],
   "source": [
    "dup_ids = sssom_curate_df_exact[sssom_curate_df_exact.duplicated(subset=['subject_id'])]\n",
    "len(dup_ids)"
   ]
  },
  {
   "cell_type": "markdown",
   "metadata": {},
   "source": [
    "### 2. Row difference when only using `skos:exactMatch`\n",
    "There are 12,004 GARD terms. This shows that now only 10 are unmapped. This corrorborates with `gard_unmapped_terms-exact.txt`, though `gard_unmapped_terms.txt` has only 3 entries."
   ]
  },
  {
   "cell_type": "code",
   "execution_count": 42,
   "metadata": {},
   "outputs": [
    {
     "data": {
      "text/plain": [
       "22378"
      ]
     },
     "execution_count": 42,
     "metadata": {},
     "output_type": "execute_result"
    }
   ],
   "source": [
    "len(sssom_curate_df)"
   ]
  },
  {
   "cell_type": "code",
   "execution_count": 43,
   "metadata": {},
   "outputs": [
    {
     "data": {
      "text/plain": [
       "11994"
      ]
     },
     "execution_count": 43,
     "metadata": {},
     "output_type": "execute_result"
    }
   ],
   "source": [
    "len(sssom_curate_df_exact)"
   ]
  },
  {
   "cell_type": "markdown",
   "metadata": {},
   "source": [
    "## 2023-06-10"
   ]
  },
  {
   "cell_type": "markdown",
   "metadata": {},
   "source": [
    "### 1. Why was [unmapped_proxy_or_direct](https://docs.google.com/spreadsheets/d/1w5Xnzr5uNFcPrQqCT8mGBFHnGhwXDfQVzHKofw6kB7c/edit#gid=1504531712) ~178 when it should have been just 3?\n",
    "\n",
    "FYI: `proxy_df` is a subset of `gard-mondo.sssom-like.tsv`\n",
    "\n",
    "I had a bug. I was saying that a GARD term was not mapped to Mondo if there was *any* proxy path that was unmapped between _GARD -> proxy ontology -> Mondo_. But I should have only counted as unmapped if there were *no proxy paths*.\n",
    "In this example below, we can see that for `GARD:15370`, there was a proxy path _`GARD:15370` -> `Orphanet:888` -> `MONDO:0019508`_, so it should have been counted as mapped. But since there was no proxy path to Mondo for _`GARD:15370` -> `OMIM:604547`_, I had been erroneously counting as `unmapped_proxy_or_direct` [in spreadsheet](https://docs.google.com/spreadsheets/d/1w5Xnzr5uNFcPrQqCT8mGBFHnGhwXDfQVzHKofw6kB7c/edit#gid=701107044)."
   ]
  },
  {
   "cell_type": "code",
   "execution_count": 2,
   "metadata": {
    "scrolled": true
   },
   "outputs": [
    {
     "data": {
      "text/html": [
       "<div>\n",
       "<style scoped>\n",
       "    .dataframe tbody tr th:only-of-type {\n",
       "        vertical-align: middle;\n",
       "    }\n",
       "\n",
       "    .dataframe tbody tr th {\n",
       "        vertical-align: top;\n",
       "    }\n",
       "\n",
       "    .dataframe thead th {\n",
       "        text-align: right;\n",
       "    }\n",
       "</style>\n",
       "<table border=\"1\" class=\"dataframe\">\n",
       "  <thead>\n",
       "    <tr style=\"text-align: right;\">\n",
       "      <th></th>\n",
       "      <th>subject_id</th>\n",
       "      <th>predicate_id</th>\n",
       "      <th>object_id</th>\n",
       "      <th>mondo_id</th>\n",
       "      <th>mondo_label</th>\n",
       "      <th>mondo_predicate_id</th>\n",
       "      <th>mapping_justification</th>\n",
       "      <th>gard_mondo_mapping_type</th>\n",
       "    </tr>\n",
       "  </thead>\n",
       "  <tbody>\n",
       "    <tr>\n",
       "      <th>7381</th>\n",
       "      <td>GARD:15370</td>\n",
       "      <td>skos:broadMatch</td>\n",
       "      <td>Orphanet:888</td>\n",
       "      <td>MONDO:0019508</td>\n",
       "      <td>van der Woude syndrome</td>\n",
       "      <td>skos:exactMatch</td>\n",
       "      <td>semapv:ManualMappingCuration</td>\n",
       "      <td>proxy_new</td>\n",
       "    </tr>\n",
       "    <tr>\n",
       "      <th>7380</th>\n",
       "      <td>GARD:15370</td>\n",
       "      <td>skos:exactMatch</td>\n",
       "      <td>OMIM:604547</td>\n",
       "      <td></td>\n",
       "      <td></td>\n",
       "      <td></td>\n",
       "      <td>semapv:ManualMappingCuration</td>\n",
       "      <td>proxy_new_via_other_path</td>\n",
       "    </tr>\n",
       "  </tbody>\n",
       "</table>\n",
       "</div>"
      ],
      "text/plain": [
       "      subject_id     predicate_id     object_id       mondo_id   \n",
       "7381  GARD:15370  skos:broadMatch  Orphanet:888  MONDO:0019508  \\\n",
       "7380  GARD:15370  skos:exactMatch   OMIM:604547                  \n",
       "\n",
       "                 mondo_label mondo_predicate_id         mapping_justification   \n",
       "7381  van der Woude syndrome    skos:exactMatch  semapv:ManualMappingCuration  \\\n",
       "7380                                             semapv:ManualMappingCuration   \n",
       "\n",
       "       gard_mondo_mapping_type  \n",
       "7381                 proxy_new  \n",
       "7380  proxy_new_via_other_path  "
      ]
     },
     "execution_count": 2,
     "metadata": {},
     "output_type": "execute_result"
    }
   ],
   "source": [
    "example = proxy_df[proxy_df['subject_id'] == 'GARD:15370']\n",
    "example"
   ]
  },
  {
   "cell_type": "markdown",
   "metadata": {},
   "source": [
    "### 2. `gard-mondo_curation.sssom.tsv` duplicates analysis\n",
    "\n",
    "FYI: `sssom_curate_df` is `gard-mondo_curation.sssom.tsv`, which is just `gard-mondo.sssom.tsv` but with additional columns."
   ]
  },
  {
   "cell_type": "markdown",
   "metadata": {},
   "source": [
    "#### Duplicate subj, obj edges: Multiple possible predicates\n",
    "This is where Joe needs help. Can guess what to do, but not confident enough to choose some kinds of predicates over others, either in general or case by case.\n",
    "\n",
    "_edit 2023/06/29: I think Nico helped here by determining that currently we're going to only consider exact matches: https://github.com/monarch-initiative/gard/pull/10#issuecomment-1588881615_"
   ]
  },
  {
   "cell_type": "code",
   "execution_count": 36,
   "metadata": {},
   "outputs": [
    {
     "data": {
      "text/plain": [
       "6789"
      ]
     },
     "execution_count": 36,
     "metadata": {},
     "output_type": "execute_result"
    }
   ],
   "source": [
    "dups = sssom_curate_df[sssom_curate_df.duplicated(subset=['subject_id', 'object_id'], keep=False)]\n",
    "len(dups)"
   ]
  },
  {
   "cell_type": "code",
   "execution_count": 4,
   "metadata": {},
   "outputs": [
    {
     "data": {
      "text/html": [
       "<div>\n",
       "<style scoped>\n",
       "    .dataframe tbody tr th:only-of-type {\n",
       "        vertical-align: middle;\n",
       "    }\n",
       "\n",
       "    .dataframe tbody tr th {\n",
       "        vertical-align: top;\n",
       "    }\n",
       "\n",
       "    .dataframe thead th {\n",
       "        text-align: right;\n",
       "    }\n",
       "</style>\n",
       "<table border=\"1\" class=\"dataframe\">\n",
       "  <thead>\n",
       "    <tr style=\"text-align: right;\">\n",
       "      <th></th>\n",
       "      <th>subject_id</th>\n",
       "      <th>predicate_id</th>\n",
       "      <th>object_id</th>\n",
       "      <th>object_label</th>\n",
       "      <th>proxy_id</th>\n",
       "      <th>mondo_predicate_id</th>\n",
       "    </tr>\n",
       "  </thead>\n",
       "  <tbody>\n",
       "    <tr>\n",
       "      <th>15075</th>\n",
       "      <td>GARD:1</td>\n",
       "      <td>skos:exactMatch</td>\n",
       "      <td>MONDO:0011308</td>\n",
       "      <td>GRACILE syndrome</td>\n",
       "      <td>Orphanet:53693</td>\n",
       "      <td>skos:exactMatch</td>\n",
       "    </tr>\n",
       "    <tr>\n",
       "      <th>15076</th>\n",
       "      <td>GARD:1</td>\n",
       "      <td>skos:narrowMatch</td>\n",
       "      <td>MONDO:0011308</td>\n",
       "      <td>GRACILE syndrome</td>\n",
       "      <td>OMIM:603358</td>\n",
       "      <td>skos:exactMatch</td>\n",
       "    </tr>\n",
       "    <tr>\n",
       "      <th>7782</th>\n",
       "      <td>GARD:10000</td>\n",
       "      <td>skos:exactMatch</td>\n",
       "      <td>MONDO:0011801</td>\n",
       "      <td>spinocerebellar ataxia, autosomal recessive, w...</td>\n",
       "      <td>Orphanet:94124</td>\n",
       "      <td>skos:exactMatch</td>\n",
       "    </tr>\n",
       "    <tr>\n",
       "      <th>7783</th>\n",
       "      <td>GARD:10000</td>\n",
       "      <td>skos:narrowMatch</td>\n",
       "      <td>MONDO:0011801</td>\n",
       "      <td>spinocerebellar ataxia, autosomal recessive, w...</td>\n",
       "      <td>OMIM:607250</td>\n",
       "      <td>skos:exactMatch</td>\n",
       "    </tr>\n",
       "    <tr>\n",
       "      <th>7622</th>\n",
       "      <td>GARD:10001</td>\n",
       "      <td>skos:exactMatch</td>\n",
       "      <td>MONDO:0008964</td>\n",
       "      <td>congenital secretory chloride diarrhea 1</td>\n",
       "      <td>Orphanet:53689</td>\n",
       "      <td>skos:exactMatch</td>\n",
       "    </tr>\n",
       "  </tbody>\n",
       "</table>\n",
       "</div>"
      ],
      "text/plain": [
       "       subject_id      predicate_id      object_id   \n",
       "15075      GARD:1   skos:exactMatch  MONDO:0011308  \\\n",
       "15076      GARD:1  skos:narrowMatch  MONDO:0011308   \n",
       "7782   GARD:10000   skos:exactMatch  MONDO:0011801   \n",
       "7783   GARD:10000  skos:narrowMatch  MONDO:0011801   \n",
       "7622   GARD:10001   skos:exactMatch  MONDO:0008964   \n",
       "\n",
       "                                            object_label        proxy_id   \n",
       "15075                                   GRACILE syndrome  Orphanet:53693  \\\n",
       "15076                                   GRACILE syndrome     OMIM:603358   \n",
       "7782   spinocerebellar ataxia, autosomal recessive, w...  Orphanet:94124   \n",
       "7783   spinocerebellar ataxia, autosomal recessive, w...     OMIM:607250   \n",
       "7622            congenital secretory chloride diarrhea 1  Orphanet:53689   \n",
       "\n",
       "      mondo_predicate_id  \n",
       "15075    skos:exactMatch  \n",
       "15076    skos:exactMatch  \n",
       "7782     skos:exactMatch  \n",
       "7783     skos:exactMatch  \n",
       "7622     skos:exactMatch  "
      ]
     },
     "execution_count": 4,
     "metadata": {},
     "output_type": "execute_result"
    }
   ],
   "source": [
    "dups.head()"
   ]
  },
  {
   "cell_type": "markdown",
   "metadata": {},
   "source": [
    "#### Duplicate subj, pred, obj\n",
    "These exist because these are multiple GARD::Mondo mappings derived from multiple proxy terms."
   ]
  },
  {
   "cell_type": "code",
   "execution_count": 31,
   "metadata": {},
   "outputs": [
    {
     "data": {
      "text/plain": [
       "20"
      ]
     },
     "execution_count": 31,
     "metadata": {},
     "output_type": "execute_result"
    }
   ],
   "source": [
    "dups_preds = sssom_curate_df[sssom_curate_df.duplicated(subset=['subject_id', 'predicate_id', 'object_id'], keep=False)]\n",
    "len(dups_preds)"
   ]
  },
  {
   "cell_type": "code",
   "execution_count": 33,
   "metadata": {},
   "outputs": [
    {
     "data": {
      "text/html": [
       "<div>\n",
       "<style scoped>\n",
       "    .dataframe tbody tr th:only-of-type {\n",
       "        vertical-align: middle;\n",
       "    }\n",
       "\n",
       "    .dataframe tbody tr th {\n",
       "        vertical-align: top;\n",
       "    }\n",
       "\n",
       "    .dataframe thead th {\n",
       "        text-align: right;\n",
       "    }\n",
       "</style>\n",
       "<table border=\"1\" class=\"dataframe\">\n",
       "  <thead>\n",
       "    <tr style=\"text-align: right;\">\n",
       "      <th></th>\n",
       "      <th>subject_id</th>\n",
       "      <th>predicate_id</th>\n",
       "      <th>object_id</th>\n",
       "      <th>object_label</th>\n",
       "      <th>proxy_id</th>\n",
       "      <th>mondo_predicate_id</th>\n",
       "    </tr>\n",
       "  </thead>\n",
       "  <tbody>\n",
       "    <tr>\n",
       "      <th>14744</th>\n",
       "      <td>GARD:2515</td>\n",
       "      <td>skos:narrowMatch</td>\n",
       "      <td>MONDO:0009288</td>\n",
       "      <td>glycogen storage disease Ib</td>\n",
       "      <td>OMIM:232220</td>\n",
       "      <td>skos:exactMatch</td>\n",
       "    </tr>\n",
       "    <tr>\n",
       "      <th>14743</th>\n",
       "      <td>GARD:2515</td>\n",
       "      <td>skos:narrowMatch</td>\n",
       "      <td>MONDO:0009288</td>\n",
       "      <td>glycogen storage disease Ib</td>\n",
       "      <td>OMIM:232240</td>\n",
       "      <td>skos:exactMatch</td>\n",
       "    </tr>\n",
       "    <tr>\n",
       "      <th>20717</th>\n",
       "      <td>GARD:5184</td>\n",
       "      <td>skos:narrowMatch</td>\n",
       "      <td>MONDO:0008551</td>\n",
       "      <td>thoracolaryngopelvic dysplasia</td>\n",
       "      <td>OMIM:187760</td>\n",
       "      <td>skos:exactMatch</td>\n",
       "    </tr>\n",
       "    <tr>\n",
       "      <th>20716</th>\n",
       "      <td>GARD:5184</td>\n",
       "      <td>skos:narrowMatch</td>\n",
       "      <td>MONDO:0008551</td>\n",
       "      <td>thoracolaryngopelvic dysplasia</td>\n",
       "      <td>OMIM:187770</td>\n",
       "      <td>skos:exactMatch</td>\n",
       "    </tr>\n",
       "    <tr>\n",
       "      <th>4053</th>\n",
       "      <td>GARD:7183</td>\n",
       "      <td>skos:narrowMatch</td>\n",
       "      <td>MONDO:0009738</td>\n",
       "      <td>sialidosis type 2</td>\n",
       "      <td>OMIM:256150</td>\n",
       "      <td>skos:exactMatch</td>\n",
       "    </tr>\n",
       "    <tr>\n",
       "      <th>4052</th>\n",
       "      <td>GARD:7183</td>\n",
       "      <td>skos:narrowMatch</td>\n",
       "      <td>MONDO:0009738</td>\n",
       "      <td>sialidosis type 2</td>\n",
       "      <td>OMIM:256550</td>\n",
       "      <td>skos:exactMatch</td>\n",
       "    </tr>\n",
       "    <tr>\n",
       "      <th>12953</th>\n",
       "      <td>GARD:16523</td>\n",
       "      <td>skos:narrowMatch</td>\n",
       "      <td>MONDO:0009288</td>\n",
       "      <td>glycogen storage disease Ib</td>\n",
       "      <td>OMIM:232220</td>\n",
       "      <td>skos:exactMatch</td>\n",
       "    </tr>\n",
       "    <tr>\n",
       "      <th>12951</th>\n",
       "      <td>GARD:16523</td>\n",
       "      <td>skos:narrowMatch</td>\n",
       "      <td>MONDO:0009288</td>\n",
       "      <td>glycogen storage disease Ib</td>\n",
       "      <td>OMIM:232240</td>\n",
       "      <td>skos:exactMatch</td>\n",
       "    </tr>\n",
       "    <tr>\n",
       "      <th>6940</th>\n",
       "      <td>GARD:16534</td>\n",
       "      <td>skos:narrowMatch</td>\n",
       "      <td>MONDO:0001046</td>\n",
       "      <td>imperforate anus</td>\n",
       "      <td>OMIM:207500</td>\n",
       "      <td>skos:exactMatch</td>\n",
       "    </tr>\n",
       "    <tr>\n",
       "      <th>6941</th>\n",
       "      <td>GARD:16534</td>\n",
       "      <td>skos:narrowMatch</td>\n",
       "      <td>MONDO:0001046</td>\n",
       "      <td>imperforate anus</td>\n",
       "      <td>OMIM:301800</td>\n",
       "      <td>skos:exactMatch</td>\n",
       "    </tr>\n",
       "    <tr>\n",
       "      <th>17796</th>\n",
       "      <td>GARD:18642</td>\n",
       "      <td>skos:narrowMatch</td>\n",
       "      <td></td>\n",
       "      <td></td>\n",
       "      <td>OMIM:141749</td>\n",
       "      <td></td>\n",
       "    </tr>\n",
       "    <tr>\n",
       "      <th>17798</th>\n",
       "      <td>GARD:18642</td>\n",
       "      <td>skos:narrowMatch</td>\n",
       "      <td></td>\n",
       "      <td></td>\n",
       "      <td>OMIM:142335</td>\n",
       "      <td></td>\n",
       "    </tr>\n",
       "    <tr>\n",
       "      <th>17800</th>\n",
       "      <td>GARD:18642</td>\n",
       "      <td>skos:narrowMatch</td>\n",
       "      <td></td>\n",
       "      <td></td>\n",
       "      <td>OMIM:142470</td>\n",
       "      <td></td>\n",
       "    </tr>\n",
       "    <tr>\n",
       "      <th>17797</th>\n",
       "      <td>GARD:18642</td>\n",
       "      <td>skos:narrowMatch</td>\n",
       "      <td></td>\n",
       "      <td></td>\n",
       "      <td>OMIM:305435</td>\n",
       "      <td></td>\n",
       "    </tr>\n",
       "    <tr>\n",
       "      <th>17799</th>\n",
       "      <td>GARD:18642</td>\n",
       "      <td>skos:narrowMatch</td>\n",
       "      <td></td>\n",
       "      <td></td>\n",
       "      <td>OMIM:613566</td>\n",
       "      <td></td>\n",
       "    </tr>\n",
       "    <tr>\n",
       "      <th>10092</th>\n",
       "      <td>GARD:18648</td>\n",
       "      <td>skos:narrowMatch</td>\n",
       "      <td></td>\n",
       "      <td></td>\n",
       "      <td>OMIM:141749</td>\n",
       "      <td></td>\n",
       "    </tr>\n",
       "    <tr>\n",
       "      <th>10094</th>\n",
       "      <td>GARD:18648</td>\n",
       "      <td>skos:narrowMatch</td>\n",
       "      <td></td>\n",
       "      <td></td>\n",
       "      <td>OMIM:142335</td>\n",
       "      <td></td>\n",
       "    </tr>\n",
       "    <tr>\n",
       "      <th>10096</th>\n",
       "      <td>GARD:18648</td>\n",
       "      <td>skos:narrowMatch</td>\n",
       "      <td></td>\n",
       "      <td></td>\n",
       "      <td>OMIM:142470</td>\n",
       "      <td></td>\n",
       "    </tr>\n",
       "    <tr>\n",
       "      <th>10093</th>\n",
       "      <td>GARD:18648</td>\n",
       "      <td>skos:narrowMatch</td>\n",
       "      <td></td>\n",
       "      <td></td>\n",
       "      <td>OMIM:305435</td>\n",
       "      <td></td>\n",
       "    </tr>\n",
       "    <tr>\n",
       "      <th>10095</th>\n",
       "      <td>GARD:18648</td>\n",
       "      <td>skos:narrowMatch</td>\n",
       "      <td></td>\n",
       "      <td></td>\n",
       "      <td>OMIM:613566</td>\n",
       "      <td></td>\n",
       "    </tr>\n",
       "  </tbody>\n",
       "</table>\n",
       "</div>"
      ],
      "text/plain": [
       "       subject_id      predicate_id      object_id   \n",
       "14744   GARD:2515  skos:narrowMatch  MONDO:0009288  \\\n",
       "14743   GARD:2515  skos:narrowMatch  MONDO:0009288   \n",
       "20717   GARD:5184  skos:narrowMatch  MONDO:0008551   \n",
       "20716   GARD:5184  skos:narrowMatch  MONDO:0008551   \n",
       "4053    GARD:7183  skos:narrowMatch  MONDO:0009738   \n",
       "4052    GARD:7183  skos:narrowMatch  MONDO:0009738   \n",
       "12953  GARD:16523  skos:narrowMatch  MONDO:0009288   \n",
       "12951  GARD:16523  skos:narrowMatch  MONDO:0009288   \n",
       "6940   GARD:16534  skos:narrowMatch  MONDO:0001046   \n",
       "6941   GARD:16534  skos:narrowMatch  MONDO:0001046   \n",
       "17796  GARD:18642  skos:narrowMatch                  \n",
       "17798  GARD:18642  skos:narrowMatch                  \n",
       "17800  GARD:18642  skos:narrowMatch                  \n",
       "17797  GARD:18642  skos:narrowMatch                  \n",
       "17799  GARD:18642  skos:narrowMatch                  \n",
       "10092  GARD:18648  skos:narrowMatch                  \n",
       "10094  GARD:18648  skos:narrowMatch                  \n",
       "10096  GARD:18648  skos:narrowMatch                  \n",
       "10093  GARD:18648  skos:narrowMatch                  \n",
       "10095  GARD:18648  skos:narrowMatch                  \n",
       "\n",
       "                         object_label     proxy_id mondo_predicate_id  \n",
       "14744     glycogen storage disease Ib  OMIM:232220    skos:exactMatch  \n",
       "14743     glycogen storage disease Ib  OMIM:232240    skos:exactMatch  \n",
       "20717  thoracolaryngopelvic dysplasia  OMIM:187760    skos:exactMatch  \n",
       "20716  thoracolaryngopelvic dysplasia  OMIM:187770    skos:exactMatch  \n",
       "4053                sialidosis type 2  OMIM:256150    skos:exactMatch  \n",
       "4052                sialidosis type 2  OMIM:256550    skos:exactMatch  \n",
       "12953     glycogen storage disease Ib  OMIM:232220    skos:exactMatch  \n",
       "12951     glycogen storage disease Ib  OMIM:232240    skos:exactMatch  \n",
       "6940                 imperforate anus  OMIM:207500    skos:exactMatch  \n",
       "6941                 imperforate anus  OMIM:301800    skos:exactMatch  \n",
       "17796                                  OMIM:141749                     \n",
       "17798                                  OMIM:142335                     \n",
       "17800                                  OMIM:142470                     \n",
       "17797                                  OMIM:305435                     \n",
       "17799                                  OMIM:613566                     \n",
       "10092                                  OMIM:141749                     \n",
       "10094                                  OMIM:142335                     \n",
       "10096                                  OMIM:142470                     \n",
       "10093                                  OMIM:305435                     \n",
       "10095                                  OMIM:613566                     "
      ]
     },
     "execution_count": 33,
     "metadata": {},
     "output_type": "execute_result"
    }
   ],
   "source": [
    "dups_preds"
   ]
  },
  {
   "cell_type": "code",
   "execution_count": 35,
   "metadata": {},
   "outputs": [
    {
     "data": {
      "text/html": [
       "<div>\n",
       "<style scoped>\n",
       "    .dataframe tbody tr th:only-of-type {\n",
       "        vertical-align: middle;\n",
       "    }\n",
       "\n",
       "    .dataframe tbody tr th {\n",
       "        vertical-align: top;\n",
       "    }\n",
       "\n",
       "    .dataframe thead th {\n",
       "        text-align: right;\n",
       "    }\n",
       "</style>\n",
       "<table border=\"1\" class=\"dataframe\">\n",
       "  <thead>\n",
       "    <tr style=\"text-align: right;\">\n",
       "      <th></th>\n",
       "      <th>subject_id</th>\n",
       "      <th>predicate_id</th>\n",
       "      <th>object_id</th>\n",
       "      <th>object_label</th>\n",
       "      <th>proxy_id</th>\n",
       "      <th>mondo_predicate_id</th>\n",
       "    </tr>\n",
       "  </thead>\n",
       "  <tbody>\n",
       "    <tr>\n",
       "      <th>14743</th>\n",
       "      <td>GARD:2515</td>\n",
       "      <td>skos:narrowMatch</td>\n",
       "      <td>MONDO:0009288</td>\n",
       "      <td>glycogen storage disease Ib</td>\n",
       "      <td>OMIM:232240</td>\n",
       "      <td>skos:exactMatch</td>\n",
       "    </tr>\n",
       "    <tr>\n",
       "      <th>20716</th>\n",
       "      <td>GARD:5184</td>\n",
       "      <td>skos:narrowMatch</td>\n",
       "      <td>MONDO:0008551</td>\n",
       "      <td>thoracolaryngopelvic dysplasia</td>\n",
       "      <td>OMIM:187770</td>\n",
       "      <td>skos:exactMatch</td>\n",
       "    </tr>\n",
       "    <tr>\n",
       "      <th>4052</th>\n",
       "      <td>GARD:7183</td>\n",
       "      <td>skos:narrowMatch</td>\n",
       "      <td>MONDO:0009738</td>\n",
       "      <td>sialidosis type 2</td>\n",
       "      <td>OMIM:256550</td>\n",
       "      <td>skos:exactMatch</td>\n",
       "    </tr>\n",
       "    <tr>\n",
       "      <th>12951</th>\n",
       "      <td>GARD:16523</td>\n",
       "      <td>skos:narrowMatch</td>\n",
       "      <td>MONDO:0009288</td>\n",
       "      <td>glycogen storage disease Ib</td>\n",
       "      <td>OMIM:232240</td>\n",
       "      <td>skos:exactMatch</td>\n",
       "    </tr>\n",
       "    <tr>\n",
       "      <th>6941</th>\n",
       "      <td>GARD:16534</td>\n",
       "      <td>skos:narrowMatch</td>\n",
       "      <td>MONDO:0001046</td>\n",
       "      <td>imperforate anus</td>\n",
       "      <td>OMIM:301800</td>\n",
       "      <td>skos:exactMatch</td>\n",
       "    </tr>\n",
       "    <tr>\n",
       "      <th>17798</th>\n",
       "      <td>GARD:18642</td>\n",
       "      <td>skos:narrowMatch</td>\n",
       "      <td></td>\n",
       "      <td></td>\n",
       "      <td>OMIM:142335</td>\n",
       "      <td></td>\n",
       "    </tr>\n",
       "    <tr>\n",
       "      <th>17800</th>\n",
       "      <td>GARD:18642</td>\n",
       "      <td>skos:narrowMatch</td>\n",
       "      <td></td>\n",
       "      <td></td>\n",
       "      <td>OMIM:142470</td>\n",
       "      <td></td>\n",
       "    </tr>\n",
       "    <tr>\n",
       "      <th>17797</th>\n",
       "      <td>GARD:18642</td>\n",
       "      <td>skos:narrowMatch</td>\n",
       "      <td></td>\n",
       "      <td></td>\n",
       "      <td>OMIM:305435</td>\n",
       "      <td></td>\n",
       "    </tr>\n",
       "    <tr>\n",
       "      <th>17799</th>\n",
       "      <td>GARD:18642</td>\n",
       "      <td>skos:narrowMatch</td>\n",
       "      <td></td>\n",
       "      <td></td>\n",
       "      <td>OMIM:613566</td>\n",
       "      <td></td>\n",
       "    </tr>\n",
       "    <tr>\n",
       "      <th>10094</th>\n",
       "      <td>GARD:18648</td>\n",
       "      <td>skos:narrowMatch</td>\n",
       "      <td></td>\n",
       "      <td></td>\n",
       "      <td>OMIM:142335</td>\n",
       "      <td></td>\n",
       "    </tr>\n",
       "    <tr>\n",
       "      <th>10096</th>\n",
       "      <td>GARD:18648</td>\n",
       "      <td>skos:narrowMatch</td>\n",
       "      <td></td>\n",
       "      <td></td>\n",
       "      <td>OMIM:142470</td>\n",
       "      <td></td>\n",
       "    </tr>\n",
       "    <tr>\n",
       "      <th>10093</th>\n",
       "      <td>GARD:18648</td>\n",
       "      <td>skos:narrowMatch</td>\n",
       "      <td></td>\n",
       "      <td></td>\n",
       "      <td>OMIM:305435</td>\n",
       "      <td></td>\n",
       "    </tr>\n",
       "    <tr>\n",
       "      <th>10095</th>\n",
       "      <td>GARD:18648</td>\n",
       "      <td>skos:narrowMatch</td>\n",
       "      <td></td>\n",
       "      <td></td>\n",
       "      <td>OMIM:613566</td>\n",
       "      <td></td>\n",
       "    </tr>\n",
       "  </tbody>\n",
       "</table>\n",
       "</div>"
      ],
      "text/plain": [
       "       subject_id      predicate_id      object_id   \n",
       "14743   GARD:2515  skos:narrowMatch  MONDO:0009288  \\\n",
       "20716   GARD:5184  skos:narrowMatch  MONDO:0008551   \n",
       "4052    GARD:7183  skos:narrowMatch  MONDO:0009738   \n",
       "12951  GARD:16523  skos:narrowMatch  MONDO:0009288   \n",
       "6941   GARD:16534  skos:narrowMatch  MONDO:0001046   \n",
       "17798  GARD:18642  skos:narrowMatch                  \n",
       "17800  GARD:18642  skos:narrowMatch                  \n",
       "17797  GARD:18642  skos:narrowMatch                  \n",
       "17799  GARD:18642  skos:narrowMatch                  \n",
       "10094  GARD:18648  skos:narrowMatch                  \n",
       "10096  GARD:18648  skos:narrowMatch                  \n",
       "10093  GARD:18648  skos:narrowMatch                  \n",
       "10095  GARD:18648  skos:narrowMatch                  \n",
       "\n",
       "                         object_label     proxy_id mondo_predicate_id  \n",
       "14743     glycogen storage disease Ib  OMIM:232240    skos:exactMatch  \n",
       "20716  thoracolaryngopelvic dysplasia  OMIM:187770    skos:exactMatch  \n",
       "4052                sialidosis type 2  OMIM:256550    skos:exactMatch  \n",
       "12951     glycogen storage disease Ib  OMIM:232240    skos:exactMatch  \n",
       "6941                 imperforate anus  OMIM:301800    skos:exactMatch  \n",
       "17798                                  OMIM:142335                     \n",
       "17800                                  OMIM:142470                     \n",
       "17797                                  OMIM:305435                     \n",
       "17799                                  OMIM:613566                     \n",
       "10094                                  OMIM:142335                     \n",
       "10096                                  OMIM:142470                     \n",
       "10093                                  OMIM:305435                     \n",
       "10095                                  OMIM:613566                     "
      ]
     },
     "execution_count": 35,
     "metadata": {},
     "output_type": "execute_result"
    }
   ],
   "source": [
    "# Showing the same thing, but leaving only the first of the duplicate rows.\n",
    "# - Why do the ones with no object_id appear multiple times?\n",
    "dups_preds2 = sssom_curate_df[sssom_curate_df.duplicated(subset=['subject_id', 'predicate_id', 'object_id'])]\n",
    "dups_preds2"
   ]
  },
  {
   "cell_type": "markdown",
   "metadata": {},
   "source": [
    "#### Duplicate subj, skos:exactMatch, obj\n",
    "None exist!"
   ]
  },
  {
   "cell_type": "code",
   "execution_count": 7,
   "metadata": {},
   "outputs": [
    {
     "data": {
      "text/plain": [
       "0"
      ]
     },
     "execution_count": 7,
     "metadata": {},
     "output_type": "execute_result"
    }
   ],
   "source": [
    "dups_preds_exacts = dups_preds[dups_preds['predicate_id'] == 'skos:exactMatch']\n",
    "len(dups_preds_exacts)"
   ]
  },
  {
   "cell_type": "markdown",
   "metadata": {},
   "source": [
    "### 3. Algorithm for determining mapping predicate\n",
    "A single Mondo term first can get multiple mappings to a single GARD term via multiple proxies. We can either (a) manually curate the list to get 1:1 mappings, or (b) do this algorithmically.\n",
    "\n",
    "I set up some pseudocode for a more complex approach:\n",
    "```py\n",
    "if preds == {'skos:narrowMatch', 'skos:exactMatch', 'skos:broadMatch'}:\n",
    "    pass\n",
    "elif preds == {'skos:narrowMatch', 'skos:broadMatch'}:\n",
    "    pass\n",
    "elif preds == {'skos:narrowMatch', 'skos:exactMatch'}:\n",
    "    pass\n",
    "elif preds == {'skos:exactMatch', 'skos:broadMatch'}:\n",
    "    pass\n",
    "```\n",
    "\n",
    "But currently we are using this approach:\n",
    "```py\n",
    "pred = 'skos:exactMatch' if 'skos:exactMatch' in preds \\\n",
    "    else 'skos:narrowMatch' if 'skos:narrowMatch' in preds \\\n",
    "    else 'skos:broadMatch' if 'skos:broadMatch' in preds \\\n",
    "    else 'skos:relatedMatch'\n",
    "```\n",
    "\n",
    "Note that as of 2023/06/29, this is moot for cases where the output artefact has `-exact` in the filename, e.g. `gard-mondo-exact.sssom.tsv`, as for these artefacts we have filtered out everything but `skos:exactMatch` for both the Mondo::proxy and GARD::proxy mappings."
   ]
  }
 ],
 "metadata": {
  "kernelspec": {
   "display_name": "Python 3 (ipykernel)",
   "language": "python",
   "name": "python3"
  },
  "language_info": {
   "codemirror_mode": {
    "name": "ipython",
    "version": 3
   },
   "file_extension": ".py",
   "mimetype": "text/x-python",
   "name": "python",
   "nbconvert_exporter": "python",
   "pygments_lexer": "ipython3",
   "version": "3.10.8"
  }
 },
 "nbformat": 4,
 "nbformat_minor": 1
}
