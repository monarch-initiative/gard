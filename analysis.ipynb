{
 "cells": [
  {
   "cell_type": "markdown",
   "metadata": {},
   "source": [
    "# Analysis for GARD ingest\n",
    "- [Spreadsheet](https://docs.google.com/spreadsheets/d/1w5Xnzr5uNFcPrQqCT8mGBFHnGhwXDfQVzHKofw6kB7c/edit#gid=1282628523)"
   ]
  },
  {
   "cell_type": "code",
   "execution_count": 41,
   "metadata": {},
   "outputs": [],
   "source": [
    "%reload_ext autoreload\n",
    "%autoreload 2\n",
    "from pathlib import Path\n",
    "import os\n",
    "import sys\n",
    "\n",
    "sys.path.insert(0, Path(os.getcwd()).parent)\n",
    "from gard_owl_ingest.mondo_mapping_status import gard_mondo_mapping_status\n",
    "\n",
    "proxy_df, sssom_curate_df = gard_mondo_mapping_status(return_type='analysis')\n",
    "proxy_df_exact, sssom_curate_df_exact = gard_mondo_mapping_status(\n",
    "    return_type='analysis', mondo_predicate_filter=['skos:exactMatch'], gard_predicate_filter=['skos:exactMatch'])"
   ]
  },
  {
   "cell_type": "markdown",
   "metadata": {},
   "source": [
    "## 2023-06-29"
   ]
  },
  {
   "cell_type": "markdown",
   "metadata": {},
   "source": [
    "Created set of output artefacts that have `-exact` in the filename, e.g. `gard-mondo-exact.sssom.tsv`. For these artefacts, we have filtered out everything but `skos:exactMatch` for both the Mondo::proxy and GARD::proxy mappings."
   ]
  },
  {
   "cell_type": "markdown",
   "metadata": {},
   "source": [
    "### 1. `gard-mondo-exact_curation.sssom.tsv`: no duplicates\n",
    "\n",
    "FYI: `sssom_curate_df` is `gard-mondo_curation.sssom.tsv`, which is just `gard-mondo.sssom.tsv` but with additional columns."
   ]
  },
  {
   "cell_type": "markdown",
   "metadata": {},
   "source": [
    "#### Duplicate edges: 0"
   ]
  },
  {
   "cell_type": "code",
   "execution_count": 42,
   "metadata": {},
   "outputs": [
    {
     "data": {
      "text/plain": [
       "0"
      ]
     },
     "execution_count": 42,
     "metadata": {},
     "output_type": "execute_result"
    }
   ],
   "source": [
    "dup_edges = sssom_curate_df_exact[sssom_curate_df_exact.duplicated(subset=['subject_id', 'object_id'])]\n",
    "len(dup_edges)"
   ]
  },
  {
   "cell_type": "markdown",
   "metadata": {},
   "source": [
    "#### Duplicate Mondo IDs: 0"
   ]
  },
  {
   "cell_type": "code",
   "execution_count": 43,
   "metadata": {
    "scrolled": true
   },
   "outputs": [
    {
     "data": {
      "text/plain": [
       "122"
      ]
     },
     "execution_count": 43,
     "metadata": {},
     "output_type": "execute_result"
    }
   ],
   "source": [
    "len(sssom_curate_df_exact) - len(sssom_curate_df_exact['object_id'].unique())"
   ]
  },
  {
   "cell_type": "code",
   "execution_count": 44,
   "metadata": {},
   "outputs": [
    {
     "data": {
      "text/plain": [
       "122"
      ]
     },
     "execution_count": 44,
     "metadata": {},
     "output_type": "execute_result"
    }
   ],
   "source": [
    "dup_mondo = sssom_curate_df_exact[sssom_curate_df_exact.duplicated(subset=['object_id'])].sort_values(['object_id'])\n",
    "len(dup_mondo)"
   ]
  },
  {
   "cell_type": "code",
   "execution_count": 46,
   "metadata": {},
   "outputs": [],
   "source": [
    "if len(dup_mondo) > 0:\n",
    "    dup_mondo2 = sssom_curate_df_exact[sssom_curate_df_exact.duplicated(keep=False, subset=['object_id'])].sort_values(['object_id'])\n",
    "    dup_mondo2.to_csv('~/Desktop/gard-mondo-exact_curate_mondo-duplicates.sssom.tsv', index=False, sep='\\t')\n",
    "    dup_mondo.head()"
   ]
  },
  {
   "cell_type": "markdown",
   "metadata": {},
   "source": [
    "#### Duplicate GARD IDs"
   ]
  },
  {
   "cell_type": "code",
   "execution_count": 19,
   "metadata": {},
   "outputs": [],
   "source": [
    "len(sssom_curate_df_exact) - len(sssom_curate_df_exact['subject_id'].unique())"
   ]
  },
  {
   "cell_type": "code",
   "execution_count": 20,
   "metadata": {},
   "outputs": [],
   "source": [
    "dup_gard = sssom_curate_df_exact[sssom_curate_df_exact.duplicated(subset=['subject_id'])].sort_values(['subject_id'])\n",
    "len(dup_gard)"
   ]
  },
  {
   "cell_type": "code",
   "execution_count": 33,
   "metadata": {
    "scrolled": true
   },
   "outputs": [],
   "source": [
    "if len(dup_gard) > 0:\n",
    "    dup_gard.to_csv('~/Desktop/gard-mondo-exact_curate_gard-duplicates.sssom.tsv', index=False, sep='\\t')\n",
    "    dup_gard.head()"
   ]
  },
  {
   "cell_type": "markdown",
   "metadata": {},
   "source": [
    "### 2. Row difference when only using `skos:exactMatch`\n",
    "There are 12,004 GARD terms. This shows that now only 10 are unmapped. This corrorborates with `gard_unmapped_terms-exact.txt`, though `gard_unmapped_terms.txt` has only 3 entries."
   ]
  },
  {
   "cell_type": "code",
   "execution_count": 23,
   "metadata": {},
   "outputs": [],
   "source": [
    "len(sssom_curate_df)"
   ]
  },
  {
   "cell_type": "code",
   "execution_count": 24,
   "metadata": {},
   "outputs": [],
   "source": [
    "len(sssom_curate_df_exact)"
   ]
  },
  {
   "cell_type": "markdown",
   "metadata": {},
   "source": [
    "## 2023-06-10"
   ]
  },
  {
   "cell_type": "markdown",
   "metadata": {},
   "source": [
    "### 1. Why was [unmapped_proxy_or_direct](https://docs.google.com/spreadsheets/d/1w5Xnzr5uNFcPrQqCT8mGBFHnGhwXDfQVzHKofw6kB7c/edit#gid=1504531712) ~178 when it should have been just 3?\n",
    "\n",
    "FYI: `proxy_df` is a subset of `gard-mondo.sssom-like.tsv`\n",
    "\n",
    "I had a bug. I was saying that a GARD term was not mapped to Mondo if there was *any* proxy path that was unmapped between _GARD -> proxy ontology -> Mondo_. But I should have only counted as unmapped if there were *no proxy paths*.\n",
    "In this example below, we can see that for `GARD:15370`, there was a proxy path _`GARD:15370` -> `Orphanet:888` -> `MONDO:0019508`_, so it should have been counted as mapped. But since there was no proxy path to Mondo for _`GARD:15370` -> `OMIM:604547`_, I had been erroneously counting as `unmapped_proxy_or_direct` [in spreadsheet](https://docs.google.com/spreadsheets/d/1w5Xnzr5uNFcPrQqCT8mGBFHnGhwXDfQVzHKofw6kB7c/edit#gid=701107044)."
   ]
  },
  {
   "cell_type": "code",
   "execution_count": 25,
   "metadata": {
    "scrolled": true
   },
   "outputs": [],
   "source": [
    "example = proxy_df[proxy_df['subject_id'] == 'GARD:15370']\n",
    "example"
   ]
  },
  {
   "cell_type": "markdown",
   "metadata": {},
   "source": [
    "### 2. `gard-mondo_curation.sssom.tsv` duplicates analysis\n",
    "\n",
    "FYI: `sssom_curate_df` is `gard-mondo_curation.sssom.tsv`, which is just `gard-mondo.sssom.tsv` but with additional columns."
   ]
  },
  {
   "cell_type": "markdown",
   "metadata": {},
   "source": [
    "#### Duplicate subj, obj edges: Multiple possible predicates\n",
    "This is where Joe needs help. Can guess what to do, but not confident enough to choose some kinds of predicates over others, either in general or case by case.\n",
    "\n",
    "_edit 2023/06/29: I think Nico helped here by determining that currently we're going to only consider exact matches: https://github.com/monarch-initiative/gard/pull/10#issuecomment-1588881615_"
   ]
  },
  {
   "cell_type": "code",
   "execution_count": 26,
   "metadata": {},
   "outputs": [],
   "source": [
    "dups = sssom_curate_df[sssom_curate_df.duplicated(subset=['subject_id', 'object_id'], keep=False)]\n",
    "len(dups)"
   ]
  },
  {
   "cell_type": "code",
   "execution_count": 27,
   "metadata": {},
   "outputs": [],
   "source": [
    "dups.head()"
   ]
  },
  {
   "cell_type": "markdown",
   "metadata": {},
   "source": [
    "#### Duplicate subj, pred, obj\n",
    "These exist because these are multiple GARD::Mondo mappings derived from multiple proxy terms."
   ]
  },
  {
   "cell_type": "code",
   "execution_count": 28,
   "metadata": {},
   "outputs": [],
   "source": [
    "dups_preds = sssom_curate_df[sssom_curate_df.duplicated(subset=['subject_id', 'predicate_id', 'object_id'], keep=False)]\n",
    "len(dups_preds)"
   ]
  },
  {
   "cell_type": "code",
   "execution_count": 29,
   "metadata": {},
   "outputs": [],
   "source": [
    "dups_preds"
   ]
  },
  {
   "cell_type": "code",
   "execution_count": 30,
   "metadata": {},
   "outputs": [],
   "source": [
    "# Showing the same thing, but leaving only the first of the duplicate rows.\n",
    "# - Why do the ones with no object_id appear multiple times?\n",
    "dups_preds2 = sssom_curate_df[sssom_curate_df.duplicated(subset=['subject_id', 'predicate_id', 'object_id'])]\n",
    "dups_preds2"
   ]
  },
  {
   "cell_type": "markdown",
   "metadata": {},
   "source": [
    "#### Duplicate subj, skos:exactMatch, obj\n",
    "None exist!"
   ]
  },
  {
   "cell_type": "code",
   "execution_count": 31,
   "metadata": {},
   "outputs": [],
   "source": [
    "dups_preds_exacts = dups_preds[dups_preds['predicate_id'] == 'skos:exactMatch']\n",
    "len(dups_preds_exacts)"
   ]
  },
  {
   "cell_type": "markdown",
   "metadata": {},
   "source": [
    "### 3. Algorithm for determining mapping predicate\n",
    "A single Mondo term first can get multiple mappings to a single GARD term via multiple proxies. We can either (a) manually curate the list to get 1:1 mappings, or (b) do this algorithmically.\n",
    "\n",
    "I set up some pseudocode for a more complex approach:\n",
    "```py\n",
    "if preds == {'skos:narrowMatch', 'skos:exactMatch', 'skos:broadMatch'}:\n",
    "    pass\n",
    "elif preds == {'skos:narrowMatch', 'skos:broadMatch'}:\n",
    "    pass\n",
    "elif preds == {'skos:narrowMatch', 'skos:exactMatch'}:\n",
    "    pass\n",
    "elif preds == {'skos:exactMatch', 'skos:broadMatch'}:\n",
    "    pass\n",
    "```\n",
    "\n",
    "But currently we are using this approach:\n",
    "```py\n",
    "pred = 'skos:exactMatch' if 'skos:exactMatch' in preds \\\n",
    "    else 'skos:narrowMatch' if 'skos:narrowMatch' in preds \\\n",
    "    else 'skos:broadMatch' if 'skos:broadMatch' in preds \\\n",
    "    else 'skos:relatedMatch'\n",
    "```\n",
    "\n",
    "Note that as of 2023/06/29, this is moot for cases where the output artefact has `-exact` in the filename, e.g. `gard-mondo-exact.sssom.tsv`, as for these artefacts we have filtered out everything but `skos:exactMatch` for both the Mondo::proxy and GARD::proxy mappings."
   ]
  }
 ],
 "metadata": {
  "kernelspec": {
   "display_name": "Python 3 (ipykernel)",
   "language": "python",
   "name": "python3"
  },
  "language_info": {
   "codemirror_mode": {
    "name": "ipython",
    "version": 3
   },
   "file_extension": ".py",
   "mimetype": "text/x-python",
   "name": "python",
   "nbconvert_exporter": "python",
   "pygments_lexer": "ipython3",
   "version": "3.10.8"
  }
 },
 "nbformat": 4,
 "nbformat_minor": 1
}
